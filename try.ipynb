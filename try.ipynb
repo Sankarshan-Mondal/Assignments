{
 "cells": [
  {
   "cell_type": "code",
   "execution_count": 2,
   "metadata": {},
   "outputs": [
    {
     "name": "stdout",
     "output_type": "stream",
     "text": [
      "0.9054651081081644\n"
     ]
    }
   ],
   "source": [
    "import math as m\n",
    "x = 1.5\n",
    "print(m.log(x, m.e) + 0.5)"
   ]
  },
  {
   "cell_type": "code",
   "execution_count": 4,
   "metadata": {},
   "outputs": [
    {
     "name": "stdout",
     "output_type": "stream",
     "text": [
      "0.6065306597126334\n",
      "9\n"
     ]
    }
   ],
   "source": [
    "print(m.e**(-0.5))\n",
    "\n",
    "print(int(9.9))"
   ]
  },
  {
   "cell_type": "code",
   "execution_count": 5,
   "metadata": {},
   "outputs": [
    {
     "name": "stdout",
     "output_type": "stream",
     "text": [
      "Enter two inputs\n",
      "Enter two inputs\n",
      "[]\n"
     ]
    }
   ],
   "source": [
    "n = int(input('enter number of edges you want to enter:'))\n",
    "\n",
    "\n",
    "graph = []\n",
    "for i in range(n):\n",
    "    l = input('Enter edges:').split(' ')\n",
    "    if len(l)==2:\n",
    "        l = [int(i) for i in l]\n",
    "        graph.append(l)\n",
    "    while len(l)!=2:\n",
    "        print('Enter two inputs')\n",
    "        break\n",
    "        #l = input('Enter edges:').split(' ')\n",
    "\n",
    "print(graph)"
   ]
  }
 ],
 "metadata": {
  "kernelspec": {
   "display_name": "Python 3",
   "language": "python",
   "name": "python3"
  },
  "language_info": {
   "codemirror_mode": {
    "name": "ipython",
    "version": 3
   },
   "file_extension": ".py",
   "mimetype": "text/x-python",
   "name": "python",
   "nbconvert_exporter": "python",
   "pygments_lexer": "ipython3",
   "version": "3.10.6"
  },
  "orig_nbformat": 4
 },
 "nbformat": 4,
 "nbformat_minor": 2
}
